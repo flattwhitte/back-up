{
  "nbformat": 4,
  "nbformat_minor": 0,
  "metadata": {
    "colab": {
      "provenance": [],
      "include_colab_link": true
    },
    "kernelspec": {
      "name": "python3",
      "display_name": "Python 3"
    },
    "language_info": {
      "name": "python"
    }
  },
  "cells": [
    {
      "cell_type": "markdown",
      "metadata": {
        "id": "view-in-github",
        "colab_type": "text"
      },
      "source": [
        "<a href=\"https://colab.research.google.com/github/flattwhitte/back-up/blob/master/CNN_MNIST_ipynb%EC%9D%98_%EC%82%AC%EB%B3%B8.ipynb\" target=\"_parent\"><img src=\"https://colab.research.google.com/assets/colab-badge.svg\" alt=\"Open In Colab\"/></a>"
      ]
    },
    {
      "cell_type": "markdown",
      "source": [
        "CNN을 이용하여 MNIST dataset 학습하기,\n",
        "조태호 저, 모두의 딥러닝의 code를 살짝 변형했습니다."
      ],
      "metadata": {
        "id": "dEhs3bVEj4K7"
      }
    },
    {
      "cell_type": "code",
      "execution_count": null,
      "metadata": {
        "id": "vtrPM3mOj2SF",
        "colab": {
          "base_uri": "https://localhost:8080/"
        },
        "outputId": "6adb56fb-9ea1-47f6-d01b-8caac6ccd951"
      },
      "outputs": [
        {
          "output_type": "stream",
          "name": "stdout",
          "text": [
            "Downloading data from https://storage.googleapis.com/tensorflow/tf-keras-datasets/train-labels-idx1-ubyte.gz\n",
            "29515/29515 [==============================] - 0s 0us/step\n",
            "Downloading data from https://storage.googleapis.com/tensorflow/tf-keras-datasets/train-images-idx3-ubyte.gz\n",
            "26421880/26421880 [==============================] - 0s 0us/step\n",
            "Downloading data from https://storage.googleapis.com/tensorflow/tf-keras-datasets/t10k-labels-idx1-ubyte.gz\n",
            "5148/5148 [==============================] - 0s 0us/step\n",
            "Downloading data from https://storage.googleapis.com/tensorflow/tf-keras-datasets/t10k-images-idx3-ubyte.gz\n",
            "4422102/4422102 [==============================] - 0s 0us/step\n"
          ]
        }
      ],
      "source": [
        "from tensorflow.keras.models import Sequential\n",
        "from tensorflow.keras.layers import Dense, Dropout, Flatten, Conv2D, MaxPooling2D\n",
        "from tensorflow.keras.callbacks import ModelCheckpoint,EarlyStopping\n",
        "from tensorflow.keras.datasets import mnist\n",
        "from tensorflow.keras.utils import to_categorical\n",
        "\n",
        "import matplotlib.pyplot as plt\n",
        "import numpy as np\n",
        "import tensorflow as tf\n",
        "import os\n",
        "\n",
        "# 데이터를 불러옵니다.\n",
        "fashion_mnist = tf.keras.datasets.fashion_mnist\n",
        "(X_train, y_train), (X_test, y_test) = fashion_mnist.load_data()\n"
      ]
    },
    {
      "cell_type": "code",
      "source": [
        "type(X_train)\n"
      ],
      "metadata": {
        "colab": {
          "base_uri": "https://localhost:8080/"
        },
        "id": "jdaEyEz6keAC",
        "outputId": "d4810df8-3639-483c-fe54-fba38c6ee87e"
      },
      "execution_count": null,
      "outputs": [
        {
          "output_type": "execute_result",
          "data": {
            "text/plain": [
              "numpy.ndarray"
            ]
          },
          "metadata": {},
          "execution_count": 7
        }
      ]
    },
    {
      "cell_type": "code",
      "source": [
        "print(X_train.shape)"
      ],
      "metadata": {
        "colab": {
          "base_uri": "https://localhost:8080/"
        },
        "id": "wLlSfluyW6ap",
        "outputId": "ae41654e-d720-4dcb-8530-5acd82a19b91"
      },
      "execution_count": null,
      "outputs": [
        {
          "output_type": "stream",
          "name": "stdout",
          "text": [
            "(60000, 28, 28)\n"
          ]
        }
      ]
    },
    {
      "cell_type": "code",
      "source": [
        "# 첫 번째 이미지를 확인해 봅시다.\n",
        "plt.imshow(X_train[100], cmap='Greys')\n",
        "plt.show()"
      ],
      "metadata": {
        "colab": {
          "base_uri": "https://localhost:8080/",
          "height": 265
        },
        "id": "0hbUzKRIo8xF",
        "outputId": "65158f41-3424-439d-c2a3-fb54b080b63f"
      },
      "execution_count": null,
      "outputs": [
        {
          "output_type": "display_data",
          "data": {
            "text/plain": [
              "<Figure size 432x288 with 1 Axes>"
            ],
            "image/png": "[encoded data removed]"
          },
          "metadata": {
            "needs_background": "light"
          }
        }
      ]
    },
    {
      "cell_type": "code",
      "source": [
        "# 이미지가 인식되는 원리를 알아봅시다.\n",
        "\n",
        "import sys\n",
        "\n",
        "for x in X_train[100]:\n",
        "    for i in x:\n",
        "        sys.stdout.write(\"%-3s\" % i)\n",
        "    sys.stdout.write('\\n')"
      ],
      "metadata": {
        "colab": {
          "base_uri": "https://localhost:8080/"
        },
        "id": "iAosLJEIo_dn",
        "outputId": "2444c5a7-d9e3-452c-a920-116818c747c4"
      },
      "execution_count": null,
      "outputs": [
        {
          "output_type": "stream",
          "name": "stdout",
          "text": [
            "0  0  0  0  0  0  0  0  0  1  0  0  18 1071191039  0  0  0  0  0  0  0  0  0  0  0  \n",
            "0  0  0  0  0  0  0  0  0  0  0  99 15511361 1181731170  0  3  0  0  0  0  0  0  0  \n",
            "0  0  0  0  0  0  0  0  1  0  1101360  0  0  0  0  1671590  0  2  0  0  0  0  0  0  \n",
            "0  0  0  0  0  1  0  6  0  72 1470  0  5  0  2  0  0  1741180  5  0  0  0  0  0  0  \n",
            "0  0  0  0  0  1  5  0  0  1744  0  4  0  0  0  0  0  0  20444 0  4  0  0  0  0  0  \n",
            "0  0  0  0  0  0  8  0  1251280  9  0  0  0  0  0  2  0  1071520  6  0  0  0  0  0  \n",
            "0  0  0  0  0  0  0  0  1849  0  4  0  0  0  0  0  2  0  0  1900  0  2  0  0  0  0  \n",
            "0  0  0  1  0  2  0  73 1580  0  0  0  1  0  0  0  0  4  0  15779 0  3  1  0  0  0  \n",
            "0  0  2  5  1  0  0  15798 0  2  0  0  1  0  0  0  0  5  0  1211450  0  0  0  0  0  \n",
            "0  0  0  0  0  0  0  23184 0  2  1  1  0  0  0  0  0  1  0  92 22316 0  7  4  1  0  \n",
            "0  0  0  0  0  0  38 18381 0  0  0  2  2  1  2  1  0  1  0  12022657 0  0  0  0  0  \n",
            "0  0  17321619321318316416798 16 0  0  0  0  0  0  0  0  0  10714111191 90 10850 0  \n",
            "0  0  18522121721020222220020620220410927 12 17 61 1361802212022252082142232401620  \n",
            "0  0  1832202052001931841891821731942152162052072071951851941942032121831932111530  \n",
            "0  0  1902332032062142161951831761591751892021951861861821861952092352032022151360  \n",
            "0  0  1802282012021881831781921861811811772042171751791841761661691751851522031070  \n",
            "0  0  16723520020720720920720319818918217818618917819219719519218518420518725561 0  \n",
            "0  0  15225020821420920220020220520420019219820419520520619819920321420717924955 0  \n",
            "0  0  12625521121521020620320320320620419920620720020620119920220821519517421115 0  \n",
            "0  0  1072552122112102112082062062072082082172142052062042082112112201971822250  0  \n",
            "0  0  63 2322112162122142122122142122112122232192102142132122112092172081681900  0  \n",
            "0  0  14 2552182212152182182172152132112152282202162222172172162182122131891430  0  \n",
            "0  0  0  2302272142172182162172172142162222262182182202192182172182172152161130  0  \n",
            "0  0  0  17723321622322221321321521222022622122022121822222022022121721221952 0  0  \n",
            "0  0  0  10 2232222202112132152202222262262212232222222212182202192202231740  0  0  \n",
            "0  0  0  0  12624120821021421421621622022021421321221221021521721821523642 0  1  0  \n",
            "0  0  0  0  0  1882372302332552552552552552552552552552552552312292391610  0  0  0  \n",
            "0  0  0  0  0  0  63 95 10810510010310410510210098 97 96 90 80 83 60 0  0  0  0  0  \n"
          ]
        }
      ]
    },
    {
      "cell_type": "code",
      "source": [
        "X_train = X_train.reshape(X_train.shape[0], 28, 28, 1).astype('float32') / 255\n",
        "X_test = X_test.reshape(X_test.shape[0], 28, 28, 1).astype('float32') / 255\n",
        "y_train = to_categorical(y_train)\n",
        "y_test = to_categorical(y_test)\n"
      ],
      "metadata": {
        "id": "KLzODqCXkcOJ"
      },
      "execution_count": null,
      "outputs": []
    },
    {
      "cell_type": "code",
      "source": [
        "y_train[257]"
      ],
      "metadata": {
        "colab": {
          "base_uri": "https://localhost:8080/"
        },
        "id": "l6dQKuuR0kO9",
        "outputId": "e28c6623-1462-452e-b7b6-5eb333f2973b"
      },
      "execution_count": null,
      "outputs": [
        {
          "output_type": "execute_result",
          "data": {
            "text/plain": [
              "array([0., 0., 0., 0., 1., 0., 0., 0., 0., 0.], dtype=float32)"
            ]
          },
          "metadata": {},
          "execution_count": 28
        }
      ]
    },
    {
      "cell_type": "code",
      "source": [
        "type(y_train)"
      ],
      "metadata": {
        "colab": {
          "base_uri": "https://localhost:8080/"
        },
        "id": "nSthREMs3O9C",
        "outputId": "a2346cbf-446c-4a88-d604-5786979b0a56"
      },
      "execution_count": null,
      "outputs": [
        {
          "output_type": "execute_result",
          "data": {
            "text/plain": [
              "numpy.ndarray"
            ]
          },
          "metadata": {},
          "execution_count": 29
        }
      ]
    },
    {
      "cell_type": "code",
      "source": [
        "import tensorflow as tf\n",
        "print(tf.__version__)\n",
        "fashion_mnist = tf.keras.datasets.fashion_mnist\n",
        "(X_train, y_train), (X_test, y_test) = fashion_mnist.load_data()\n",
        "\n",
        "model = tf.keras.models.Sequential([\n",
        "  tf.keras.layers.Conv2D(32, (3,3), activation='relu', input_shape=(28, 28, 1)),\n",
        "  tf.keras.layers.MaxPooling2D(2, 2),\n",
        "  tf.keras.layers.Flatten(),\n",
        "  tf.keras.layers.Dense(128, activation='relu'),\n",
        "  tf.keras.layers.Dense(10, activation='softmax')\n",
        "])\n",
        "model.compile(optimizer='adam', loss='sparse_categorical_crossentropy', metrics=['accuracy'])\n",
        "model.fit(X_train, y_train, epochs=20)\n",
        "test_loss, test_acc = model.evaluate(X_test, y_test)\n",
        "print(test_acc)"
      ],
      "metadata": {
        "colab": {
          "base_uri": "https://localhost:8080/",
          "height": 0
        },
        "id": "Uzfc4XbI4gA-",
        "outputId": "2b39ff61-c3d0-4e67-80ec-1cf413769e1a"
      },
      "execution_count": 16,
      "outputs": [
        {
          "output_type": "stream",
          "name": "stdout",
          "text": [
            "2.9.2\n",
            "Epoch 1/20\n",
            "1875/1875 [==============================] - 42s 22ms/step - loss: 1.1567 - accuracy: 0.8446\n",
            "Epoch 2/20\n",
            "1875/1875 [==============================] - 43s 23ms/step - loss: 0.2963 - accuracy: 0.8935\n",
            "Epoch 3/20\n",
            "1875/1875 [==============================] - 45s 24ms/step - loss: 0.2579 - accuracy: 0.9052\n",
            "Epoch 4/20\n",
            "1875/1875 [==============================] - 43s 23ms/step - loss: 0.2362 - accuracy: 0.9125\n",
            "Epoch 5/20\n",
            "1875/1875 [==============================] - 42s 22ms/step - loss: 0.2139 - accuracy: 0.9205\n",
            "Epoch 6/20\n",
            "1875/1875 [==============================] - 43s 23ms/step - loss: 0.1965 - accuracy: 0.9277\n",
            "Epoch 7/20\n",
            "1875/1875 [==============================] - 43s 23ms/step - loss: 0.1752 - accuracy: 0.9349\n",
            "Epoch 8/20\n",
            "1875/1875 [==============================] - 43s 23ms/step - loss: 0.1624 - accuracy: 0.9398\n",
            "Epoch 9/20\n",
            "1875/1875 [==============================] - 43s 23ms/step - loss: 0.1434 - accuracy: 0.9468\n",
            "Epoch 10/20\n",
            "1875/1875 [==============================] - 42s 23ms/step - loss: 0.1337 - accuracy: 0.9509\n",
            "Epoch 11/20\n",
            "1875/1875 [==============================] - 44s 23ms/step - loss: 0.1207 - accuracy: 0.9549\n",
            "Epoch 12/20\n",
            "1875/1875 [==============================] - 42s 22ms/step - loss: 0.1109 - accuracy: 0.9592\n",
            "Epoch 13/20\n",
            "1875/1875 [==============================] - 43s 23ms/step - loss: 0.1054 - accuracy: 0.9623\n",
            "Epoch 14/20\n",
            "1875/1875 [==============================] - 43s 23ms/step - loss: 0.1006 - accuracy: 0.9643\n",
            "Epoch 15/20\n",
            "1875/1875 [==============================] - 44s 24ms/step - loss: 0.0927 - accuracy: 0.9669\n",
            "Epoch 16/20\n",
            "1875/1875 [==============================] - 42s 22ms/step - loss: 0.0907 - accuracy: 0.9680\n",
            "Epoch 17/20\n",
            "1875/1875 [==============================] - 41s 22ms/step - loss: 0.0779 - accuracy: 0.9721\n",
            "Epoch 18/20\n",
            "1875/1875 [==============================] - 43s 23ms/step - loss: 0.0733 - accuracy: 0.9738\n",
            "Epoch 19/20\n",
            "1875/1875 [==============================] - 43s 23ms/step - loss: 0.0738 - accuracy: 0.9742\n",
            "Epoch 20/20\n",
            "1875/1875 [==============================] - 42s 23ms/step - loss: 0.0703 - accuracy: 0.9751\n",
            "313/313 [==============================] - 3s 8ms/step - loss: 0.8384 - accuracy: 0.8895\n",
            "0.8895000219345093\n"
          ]
        }
      ]
    },
    {
      "cell_type": "code",
      "source": [
        "\n",
        "# 모델 최적화를 위한 설정 구간입니다.\n",
        "\n",
        "#MODEL_DIR = './data/model/'\n",
        "#if not os.path.exists(MODEL_DIR):\n",
        "#    os.mkdir(MODEL_DIR)\n",
        "\n",
        "import os\n",
        "from keras.callbacks import ModelCheckpoint, EarlyStopping\n",
        "\n",
        "modelpath=\"./data/model/fahsion_mnist.hdf5\"\n",
        "\n",
        "\n",
        "checkpointer = ModelCheckpoint(filepath=modelpath, monitor='val_loss', verbose=1, save_best_only=True)\n",
        "early_stopping_callback = EarlyStopping(monitor='val_loss', patience=10)\n",
        "\n",
        "# 모델을 실행합니다.\n",
        "history = model.fit(X_train, y_train, validation_split=0.25, epochs=30, batch_size=200, verbose=0, callbacks=[early_stopping_callback,checkpointer])\n",
        "\n",
        "# 테스트 정확도를 출력합니다.\n",
        "print(\"\\n Test Accuracy: %.4f\" % (model.evaluate(X_test, y_test)[1]))\n",
        "\n"
      ],
      "metadata": {
        "colab": {
          "base_uri": "https://localhost:8080/",
          "height": 0
        },
        "id": "RIW1JzbQla74",
        "outputId": "fba7141b-5e3f-43e6-a8fd-35707b5aaccb"
      },
      "execution_count": 19,
      "outputs": [
        {
          "output_type": "stream",
          "name": "stdout",
          "text": [
            "\n",
            "Epoch 1: val_loss improved from inf to 0.02905, saving model to ./data/model/fahsion_mnist.hdf5\n",
            "\n",
            "Epoch 2: val_loss improved from 0.02905 to 0.02633, saving model to ./data/model/fahsion_mnist.hdf5\n",
            "\n",
            "Epoch 3: val_loss did not improve from 0.02633\n",
            "\n",
            "Epoch 4: val_loss did not improve from 0.02633\n",
            "\n",
            "Epoch 5: val_loss did not improve from 0.02633\n",
            "\n",
            "Epoch 6: val_loss did not improve from 0.02633\n",
            "\n",
            "Epoch 7: val_loss did not improve from 0.02633\n",
            "\n",
            "Epoch 8: val_loss did not improve from 0.02633\n",
            "\n",
            "Epoch 9: val_loss did not improve from 0.02633\n",
            "\n",
            "Epoch 10: val_loss did not improve from 0.02633\n",
            "\n",
            "Epoch 11: val_loss did not improve from 0.02633\n",
            "\n",
            "Epoch 12: val_loss did not improve from 0.02633\n",
            "313/313 [==============================] - 3s 10ms/step - loss: 1.1053 - accuracy: 0.8970\n",
            "\n",
            " Test Accuracy: 0.8970\n"
          ]
        }
      ]
    },
    {
      "cell_type": "code",
      "source": [
        "# 검증셋과 학습셋의 오차를 그래프로 표현\n",
        "import matplotlib.pyplot as plt\n",
        "import numpy as np\n",
        "\n",
        "y_vloss = history.history['val_loss']\n",
        "y_loss = history.history['loss']\n",
        "\n",
        "x_len = np.arange(len(y_loss))\n",
        "plt.plot(x_len, y_vloss, marker='.', c=\"red\", label='Testset_loss')\n",
        "plt.plot(x_len, y_loss, marker='.', c=\"blue\", label='Trainset_loss')\n",
        "\n",
        "\n",
        "plt.legend(loc='upper right')\n",
        "plt.grid()\n",
        "plt.xlabel('epoch')\n",
        "plt.ylabel('loss')\n",
        "plt.show()"
      ],
      "metadata": {
        "colab": {
          "base_uri": "https://localhost:8080/",
          "height": 279
        },
        "id": "CpesOUGW0PaI",
        "outputId": "f5f3af79-1ecb-41ca-f4a5-aa3753c5c0c0"
      },
      "execution_count": 23,
      "outputs": [
        {
          "output_type": "display_data",
          "data": {
            "text/plain": [
              "<Figure size 432x288 with 1 Axes>"
            ],
            "image/png": "[encoded data removed]"
          },
          "metadata": {
            "needs_background": "light"
          }
        }
      ]
    }
  ]
}