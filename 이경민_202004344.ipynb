{
  "nbformat": 4,
  "nbformat_minor": 0,
  "metadata": {
    "colab": {
      "provenance": [],
      "collapsed_sections": [],
      "authorship_tag": "ABX9TyNTVeGBqIQZM97MU+BfdcBy",
      "include_colab_link": true
    },
    "kernelspec": {
      "name": "python3",
      "display_name": "Python 3"
    },
    "language_info": {
      "name": "python"
    }
  },
  "cells": [
    {
      "cell_type": "markdown",
      "metadata": {
        "id": "view-in-github",
        "colab_type": "text"
      },
      "source": [
        "<a href=\"https://colab.research.google.com/github/flattwhitte/back-up/blob/master/%EC%9D%B4%EA%B2%BD%EB%AF%BC_202004344.ipynb\" target=\"_parent\"><img src=\"https://colab.research.google.com/assets/colab-badge.svg\" alt=\"Open In Colab\"/></a>"
      ]
    },
    {
      "cell_type": "code",
      "execution_count": null,
      "metadata": {
        "colab": {
          "base_uri": "https://localhost:8080/"
        },
        "id": "zKWusPr7SgEW",
        "outputId": "7614b4f6-6a50-415f-91d2-354bd2e5c17f"
      },
      "outputs": [
        {
          "output_type": "stream",
          "name": "stdout",
          "text": [
            "3\n"
          ]
        }
      ],
      "source": [
        "# Print(a+b)\n",
        "a=1\n",
        "b=2\n",
        "print(a+b)\n"
      ]
    },
    {
      "cell_type": "code",
      "source": [
        "\n",
        "#숫자로 경사만들기\n",
        "\n",
        "a = int(input(\"n을 입력하세요:\"))\n",
        "\n",
        "for i in range(1, a+1):\n",
        "    for k in range(1, i+1):\n",
        "        print(k, end='')\n",
        "    print(\"\")\n",
        "\n",
        "  "
      ],
      "metadata": {
        "id": "nPNEG6em-XYV",
        "colab": {
          "base_uri": "https://localhost:8080/"
        },
        "outputId": "a333ec28-6738-481f-9de0-6bda02f0d7e9"
      },
      "execution_count": null,
      "outputs": [
        {
          "output_type": "stream",
          "name": "stdout",
          "text": [
            "n을 입력하세요:6\n",
            "1\n",
            "12\n",
            "123\n",
            "1234\n",
            "12345\n",
            "123456\n"
          ]
        }
      ]
    },
    {
      "cell_type": "code",
      "source": [
        "#숫자로 경사만들기\n",
        "\n",
        "n = int(input(\"n을 입력하세요:\"))\n",
        "\n",
        "for i in range(1, (n*2)+1):\n",
        "    if(i <= n):\n",
        "        for j in range(1, i+1):\n",
        "            print(j, end='')\n",
        "        print(\"\")\n",
        "\n",
        "        if n >= 30:\n",
        "          print(\"숫자가 너무 많습니다.\")"
      ],
      "metadata": {
        "id": "U1ADOEBTOE0A",
        "colab": {
          "base_uri": "https://localhost:8080/"
        },
        "outputId": "86cff150-5b23-4da0-964a-32af3f146753"
      },
      "execution_count": null,
      "outputs": [
        {
          "output_type": "stream",
          "name": "stdout",
          "text": [
            "n을 입력하세요:6\n",
            "1\n",
            "12\n",
            "123\n",
            "1234\n",
            "12345\n",
            "123456\n"
          ]
        }
      ]
    }
  ]
}